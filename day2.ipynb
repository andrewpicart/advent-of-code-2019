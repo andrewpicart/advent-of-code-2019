{
 "cells": [
  {
   "cell_type": "markdown",
   "metadata": {},
   "source": [
    "Opcode 1 adds together numbers read from two positions and stores the result in a third position. The three integers immediately after the opcode tell you these three positions - the first two indicate the positions from which you should read the input values, and the third indicates the position at which the output should be stored.\n",
    "\n",
    "Opcode 2 works exactly like opcode 1, except it multiplies the two inputs instead of adding them. Again, the three integers after the opcode indicate where the inputs and outputs are, not their values"
   ]
  },
  {
   "cell_type": "markdown",
   "metadata": {},
   "source": [
    "Once you have a working computer, the first step is to restore the gravity assist program (your puzzle input) to the \"1202 program alarm\" state it had just before the last computer caught fire. To do this, before running the program, replace position 1 with the value 12 and replace position 2 with the value 2. What value is left at position 0 after the program halts?"
   ]
  },
  {
   "cell_type": "markdown",
   "metadata": {},
   "source": [
    "1,0,0,3,1,1,2,3,1,3,4,3,1,5,0,3,2,10,1,19,1,19,6,23,2,13,23,27,1,27,13,31,1,9,31,35,1,35,9,39,1,39,5,43,2,6,43,47,1,47,6,51,2,51,9,55,2,55,13,59,1,59,6,63,1,10,63,67,2,67,9,71,2,6,71,75,1,75,5,79,2,79,10,83,1,5,83,87,2,9,87,91,1,5,91,95,2,13,95,99,1,99,10,103,1,103,2,107,1,107,6,0,99,2,14,0,0"
   ]
  },
  {
   "cell_type": "code",
   "execution_count": 64,
   "metadata": {},
   "outputs": [],
   "source": [
    "sequence = [1,12,2,3,1,1,2,3,1,3,4,3,1,5,0,3,2,10,1,19,1,19,6,23,2,13,23,27,1,27,13,31,1,9,31,35,1,35,9,39,1,39,5,43,2,6,43,47,1,47,6,51,2,51,9,55,2,55,13,59,1,59,6,63,1,10,63,67,2,67,9,71,2,6,71,75,1,75,5,79,2,79,10,83,1,5,83,87,2,9,87,91,1,5,91,95,2,13,95,99,1,99,10,103,1,103,2,107,1,107,6,0,99,2,14,0,0]"
   ]
  },
  {
   "cell_type": "code",
   "execution_count": null,
   "metadata": {},
   "outputs": [],
   "source": [
    "example1 = [1,0,0,0,99]\n",
    "# [2,0,0,0,99]\n",
    "example2 = [2,3,0,3,99]\n",
    "# [2,3,0,6,99 ]\n",
    "example3 = [2,4,4,5,99,0]\n",
    "# [2,4,4,5,99,9801]\n",
    "example4 = [1,1,1,4,99,5,6,0,99]\n",
    "# [30,1,1,4,2,5,6,0,99]"
   ]
  },
  {
   "cell_type": "code",
   "execution_count": 57,
   "metadata": {},
   "outputs": [],
   "source": [
    "def gravity_assist(sequence):\n",
    "    skip = 0\n",
    "\n",
    "    for i in range(0, len(sequence)):\n",
    "        number = sequence[i]\n",
    "        new_position = 0\n",
    "\n",
    "        if skip == 0:\n",
    "            if number == 99:\n",
    "                break\n",
    "            elif number == 1:\n",
    "                add_var = sequence[sequence[i + 1]] + sequence[sequence[i + 2]]\n",
    "                new_position = sequence[i + 3]\n",
    "                sequence[new_position] = add_var\n",
    "                skip = 3\n",
    "            elif number == 2:\n",
    "                mult_var = sequence[sequence[i + 1]] * sequence[sequence[i + 2]]\n",
    "                new_position = sequence[i + 3]\n",
    "                sequence[new_position] = mult_var\n",
    "                skip = 3\n",
    "            else:\n",
    "                print(\"error\")\n",
    "        else:\n",
    "            skip -= 1\n",
    "    \n",
    "    \n",
    "    return sequence"
   ]
  },
  {
   "cell_type": "code",
   "execution_count": 58,
   "metadata": {
    "scrolled": true
   },
   "outputs": [
    {
     "data": {
      "text/plain": [
       "[2842648,\n",
       " 12,\n",
       " 2,\n",
       " 2,\n",
       " 1,\n",
       " 1,\n",
       " 2,\n",
       " 3,\n",
       " 1,\n",
       " 3,\n",
       " 4,\n",
       " 3,\n",
       " 1,\n",
       " 5,\n",
       " 0,\n",
       " 3,\n",
       " 2,\n",
       " 10,\n",
       " 1,\n",
       " 48,\n",
       " 1,\n",
       " 19,\n",
       " 6,\n",
       " 50,\n",
       " 2,\n",
       " 13,\n",
       " 23,\n",
       " 250,\n",
       " 1,\n",
       " 27,\n",
       " 13,\n",
       " 255,\n",
       " 1,\n",
       " 9,\n",
       " 31,\n",
       " 258,\n",
       " 1,\n",
       " 35,\n",
       " 9,\n",
       " 261,\n",
       " 1,\n",
       " 39,\n",
       " 5,\n",
       " 262,\n",
       " 2,\n",
       " 6,\n",
       " 43,\n",
       " 524,\n",
       " 1,\n",
       " 47,\n",
       " 6,\n",
       " 526,\n",
       " 2,\n",
       " 51,\n",
       " 9,\n",
       " 1578,\n",
       " 2,\n",
       " 55,\n",
       " 13,\n",
       " 7890,\n",
       " 1,\n",
       " 59,\n",
       " 6,\n",
       " 7892,\n",
       " 1,\n",
       " 10,\n",
       " 63,\n",
       " 7896,\n",
       " 2,\n",
       " 67,\n",
       " 9,\n",
       " 23688,\n",
       " 2,\n",
       " 6,\n",
       " 71,\n",
       " 47376,\n",
       " 1,\n",
       " 75,\n",
       " 5,\n",
       " 47377,\n",
       " 2,\n",
       " 79,\n",
       " 10,\n",
       " 189508,\n",
       " 1,\n",
       " 5,\n",
       " 83,\n",
       " 189509,\n",
       " 2,\n",
       " 9,\n",
       " 87,\n",
       " 568527,\n",
       " 1,\n",
       " 5,\n",
       " 91,\n",
       " 568528,\n",
       " 2,\n",
       " 13,\n",
       " 95,\n",
       " 2842640,\n",
       " 1,\n",
       " 99,\n",
       " 10,\n",
       " 2842644,\n",
       " 1,\n",
       " 103,\n",
       " 2,\n",
       " 2842646,\n",
       " 1,\n",
       " 107,\n",
       " 6,\n",
       " 0,\n",
       " 99,\n",
       " 2,\n",
       " 14,\n",
       " 0,\n",
       " 0]"
      ]
     },
     "execution_count": 58,
     "metadata": {},
     "output_type": "execute_result"
    }
   ],
   "source": [
    "gravity_assist(sequence)"
   ]
  },
  {
   "cell_type": "code",
   "execution_count": 59,
   "metadata": {},
   "outputs": [
    {
     "data": {
      "text/plain": [
       "2842648"
      ]
     },
     "execution_count": 59,
     "metadata": {},
     "output_type": "execute_result"
    }
   ],
   "source": [
    "sequence[0]"
   ]
  },
  {
   "cell_type": "code",
   "execution_count": 66,
   "metadata": {},
   "outputs": [],
   "source": [
    "def gravity_assist2(instructions, noun, verb):\n",
    "    instructions[1] = noun\n",
    "    instructions[2] = verb\n",
    "    \n",
    "    skip = 0\n",
    "\n",
    "    for i in range(0, len(instructions)):\n",
    "        number = instructions[i]\n",
    "        new_position = 0\n",
    "\n",
    "        if skip == 0:\n",
    "            if number == 99:\n",
    "                break\n",
    "            elif number == 1:\n",
    "                add_var = instructions[instructions[i + 1]] + instructions[instructions[i + 2]]\n",
    "                new_position = instructions[i + 3]\n",
    "                instructions[new_position] = add_var\n",
    "                skip = 3\n",
    "            elif number == 2:\n",
    "                mult_var = instructions[instructions[i + 1]] * instructions[instructions[i + 2]]\n",
    "                new_position = instructions[i + 3]\n",
    "                instructions[new_position] = mult_var\n",
    "                skip = 3\n",
    "            else:\n",
    "                print(\"error\")\n",
    "        else:\n",
    "            skip -= 1\n",
    "    \n",
    "    \n",
    "    return instructions[0]"
   ]
  },
  {
   "cell_type": "code",
   "execution_count": 67,
   "metadata": {},
   "outputs": [
    {
     "name": "stdout",
     "output_type": "stream",
     "text": [
      "error\n",
      "error\n",
      "error\n",
      "error\n"
     ]
    },
    {
     "ename": "IndexError",
     "evalue": "list assignment index out of range",
     "output_type": "error",
     "traceback": [
      "\u001b[1;31m---------------------------------------------------------------------------\u001b[0m",
      "\u001b[1;31mIndexError\u001b[0m                                Traceback (most recent call last)",
      "\u001b[1;32m<ipython-input-67-fe071eca3af5>\u001b[0m in \u001b[0;36m<module>\u001b[1;34m\u001b[0m\n\u001b[0;32m      1\u001b[0m \u001b[1;32mfor\u001b[0m \u001b[0mnoun\u001b[0m \u001b[1;32min\u001b[0m \u001b[0mrange\u001b[0m\u001b[1;33m(\u001b[0m\u001b[1;36m100\u001b[0m\u001b[1;33m)\u001b[0m\u001b[1;33m:\u001b[0m\u001b[1;33m\u001b[0m\u001b[1;33m\u001b[0m\u001b[0m\n\u001b[0;32m      2\u001b[0m     \u001b[1;32mfor\u001b[0m \u001b[0mverb\u001b[0m \u001b[1;32min\u001b[0m \u001b[0mrange\u001b[0m\u001b[1;33m(\u001b[0m\u001b[1;36m100\u001b[0m\u001b[1;33m)\u001b[0m\u001b[1;33m:\u001b[0m\u001b[1;33m\u001b[0m\u001b[1;33m\u001b[0m\u001b[0m\n\u001b[1;32m----> 3\u001b[1;33m         \u001b[1;32mif\u001b[0m \u001b[0mgravity_assist2\u001b[0m\u001b[1;33m(\u001b[0m\u001b[0msequence\u001b[0m\u001b[1;33m,\u001b[0m \u001b[0mnoun\u001b[0m\u001b[1;33m,\u001b[0m \u001b[0mverb\u001b[0m\u001b[1;33m)\u001b[0m \u001b[1;33m==\u001b[0m \u001b[1;36m19690720\u001b[0m\u001b[1;33m:\u001b[0m\u001b[1;33m\u001b[0m\u001b[1;33m\u001b[0m\u001b[0m\n\u001b[0m\u001b[0;32m      4\u001b[0m             \u001b[0manswer\u001b[0m \u001b[1;33m=\u001b[0m \u001b[1;36m100\u001b[0m \u001b[1;33m*\u001b[0m \u001b[0mnoun\u001b[0m \u001b[1;33m+\u001b[0m \u001b[0mverb\u001b[0m\u001b[1;33m\u001b[0m\u001b[1;33m\u001b[0m\u001b[0m\n",
      "\u001b[1;32m<ipython-input-66-67889755b351>\u001b[0m in \u001b[0;36mgravity_assist2\u001b[1;34m(instructions, noun, verb)\u001b[0m\n\u001b[0;32m     20\u001b[0m                 \u001b[0mmult_var\u001b[0m \u001b[1;33m=\u001b[0m \u001b[0minstructions\u001b[0m\u001b[1;33m[\u001b[0m\u001b[0minstructions\u001b[0m\u001b[1;33m[\u001b[0m\u001b[0mi\u001b[0m \u001b[1;33m+\u001b[0m \u001b[1;36m1\u001b[0m\u001b[1;33m]\u001b[0m\u001b[1;33m]\u001b[0m \u001b[1;33m*\u001b[0m \u001b[0minstructions\u001b[0m\u001b[1;33m[\u001b[0m\u001b[0minstructions\u001b[0m\u001b[1;33m[\u001b[0m\u001b[0mi\u001b[0m \u001b[1;33m+\u001b[0m \u001b[1;36m2\u001b[0m\u001b[1;33m]\u001b[0m\u001b[1;33m]\u001b[0m\u001b[1;33m\u001b[0m\u001b[1;33m\u001b[0m\u001b[0m\n\u001b[0;32m     21\u001b[0m                 \u001b[0mnew_position\u001b[0m \u001b[1;33m=\u001b[0m \u001b[0minstructions\u001b[0m\u001b[1;33m[\u001b[0m\u001b[0mi\u001b[0m \u001b[1;33m+\u001b[0m \u001b[1;36m3\u001b[0m\u001b[1;33m]\u001b[0m\u001b[1;33m\u001b[0m\u001b[1;33m\u001b[0m\u001b[0m\n\u001b[1;32m---> 22\u001b[1;33m                 \u001b[0minstructions\u001b[0m\u001b[1;33m[\u001b[0m\u001b[0mnew_position\u001b[0m\u001b[1;33m]\u001b[0m \u001b[1;33m=\u001b[0m \u001b[0mmult_var\u001b[0m\u001b[1;33m\u001b[0m\u001b[1;33m\u001b[0m\u001b[0m\n\u001b[0m\u001b[0;32m     23\u001b[0m                 \u001b[0mskip\u001b[0m \u001b[1;33m=\u001b[0m \u001b[1;36m3\u001b[0m\u001b[1;33m\u001b[0m\u001b[1;33m\u001b[0m\u001b[0m\n\u001b[0;32m     24\u001b[0m             \u001b[1;32melse\u001b[0m\u001b[1;33m:\u001b[0m\u001b[1;33m\u001b[0m\u001b[1;33m\u001b[0m\u001b[0m\n",
      "\u001b[1;31mIndexError\u001b[0m: list assignment index out of range"
     ]
    }
   ],
   "source": [
    "for noun in range(100):\n",
    "    for verb in range(100):\n",
    "        if gravity_assist2(sequence, noun, verb) == 19690720:\n",
    "            answer = 100 * noun + verb"
   ]
  },
  {
   "cell_type": "code",
   "execution_count": 68,
   "metadata": {},
   "outputs": [
    {
     "name": "stdout",
     "output_type": "stream",
     "text": [
      "error\n"
     ]
    },
    {
     "ename": "IndexError",
     "evalue": "list index out of range",
     "output_type": "error",
     "traceback": [
      "\u001b[1;31m---------------------------------------------------------------------------\u001b[0m",
      "\u001b[1;31mIndexError\u001b[0m                                Traceback (most recent call last)",
      "\u001b[1;32m<ipython-input-68-7374af69882b>\u001b[0m in \u001b[0;36m<module>\u001b[1;34m\u001b[0m\n\u001b[1;32m----> 1\u001b[1;33m \u001b[0mgravity_assist2\u001b[0m\u001b[1;33m(\u001b[0m\u001b[0msequence\u001b[0m\u001b[1;33m,\u001b[0m \u001b[1;36m1\u001b[0m\u001b[1;33m,\u001b[0m \u001b[1;36m1\u001b[0m\u001b[1;33m)\u001b[0m\u001b[1;33m\u001b[0m\u001b[1;33m\u001b[0m\u001b[0m\n\u001b[0m",
      "\u001b[1;32m<ipython-input-66-67889755b351>\u001b[0m in \u001b[0;36mgravity_assist2\u001b[1;34m(instructions, noun, verb)\u001b[0m\n\u001b[0;32m     13\u001b[0m                 \u001b[1;32mbreak\u001b[0m\u001b[1;33m\u001b[0m\u001b[1;33m\u001b[0m\u001b[0m\n\u001b[0;32m     14\u001b[0m             \u001b[1;32melif\u001b[0m \u001b[0mnumber\u001b[0m \u001b[1;33m==\u001b[0m \u001b[1;36m1\u001b[0m\u001b[1;33m:\u001b[0m\u001b[1;33m\u001b[0m\u001b[1;33m\u001b[0m\u001b[0m\n\u001b[1;32m---> 15\u001b[1;33m                 \u001b[0madd_var\u001b[0m \u001b[1;33m=\u001b[0m \u001b[0minstructions\u001b[0m\u001b[1;33m[\u001b[0m\u001b[0minstructions\u001b[0m\u001b[1;33m[\u001b[0m\u001b[0mi\u001b[0m \u001b[1;33m+\u001b[0m \u001b[1;36m1\u001b[0m\u001b[1;33m]\u001b[0m\u001b[1;33m]\u001b[0m \u001b[1;33m+\u001b[0m \u001b[0minstructions\u001b[0m\u001b[1;33m[\u001b[0m\u001b[0minstructions\u001b[0m\u001b[1;33m[\u001b[0m\u001b[0mi\u001b[0m \u001b[1;33m+\u001b[0m \u001b[1;36m2\u001b[0m\u001b[1;33m]\u001b[0m\u001b[1;33m]\u001b[0m\u001b[1;33m\u001b[0m\u001b[1;33m\u001b[0m\u001b[0m\n\u001b[0m\u001b[0;32m     16\u001b[0m                 \u001b[0mnew_position\u001b[0m \u001b[1;33m=\u001b[0m \u001b[0minstructions\u001b[0m\u001b[1;33m[\u001b[0m\u001b[0mi\u001b[0m \u001b[1;33m+\u001b[0m \u001b[1;36m3\u001b[0m\u001b[1;33m]\u001b[0m\u001b[1;33m\u001b[0m\u001b[1;33m\u001b[0m\u001b[0m\n\u001b[0;32m     17\u001b[0m                 \u001b[0minstructions\u001b[0m\u001b[1;33m[\u001b[0m\u001b[0mnew_position\u001b[0m\u001b[1;33m]\u001b[0m \u001b[1;33m=\u001b[0m \u001b[0madd_var\u001b[0m\u001b[1;33m\u001b[0m\u001b[1;33m\u001b[0m\u001b[0m\n",
      "\u001b[1;31mIndexError\u001b[0m: list index out of range"
     ]
    }
   ],
   "source": [
    "gravity_assist2(sequence, 1, 1)"
   ]
  },
  {
   "cell_type": "code",
   "execution_count": null,
   "metadata": {},
   "outputs": [],
   "source": []
  }
 ],
 "metadata": {
  "kernelspec": {
   "display_name": "Python 3",
   "language": "python",
   "name": "python3"
  },
  "language_info": {
   "codemirror_mode": {
    "name": "ipython",
    "version": 3
   },
   "file_extension": ".py",
   "mimetype": "text/x-python",
   "name": "python",
   "nbconvert_exporter": "python",
   "pygments_lexer": "ipython3",
   "version": "3.7.3"
  }
 },
 "nbformat": 4,
 "nbformat_minor": 2
}
